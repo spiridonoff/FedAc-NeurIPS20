{
 "cells": [
  {
   "cell_type": "code",
   "execution_count": 1,
   "metadata": {},
   "outputs": [],
   "source": [
    "import logistic\n",
    "import time"
   ]
  },
  {
   "cell_type": "code",
   "execution_count": 2,
   "metadata": {},
   "outputs": [],
   "source": [
    "model = logistic.LogiBinaryLibSVM('a9a', 0.001)"
   ]
  },
  {
   "cell_type": "code",
   "execution_count": 7,
   "metadata": {},
   "outputs": [
    {
     "name": "stdout",
     "output_type": "stream",
     "text": [
      "alg: 5\n",
      "...M: 1\n",
      "......eta: 0.001\n"
     ]
    },
    {
     "ename": "NameError",
     "evalue": "name 'k' is not defined",
     "output_type": "error",
     "traceback": [
      "\u001b[0;31m---------------------------------------------------------------------------\u001b[0m",
      "\u001b[0;31mNameError\u001b[0m                                 Traceback (most recent call last)",
      "\u001b[0;32m/var/folders/mz/34789_zs4qj_g0xbkt3ydlxh0000gn/T/ipykernel_28343/1612906504.py\u001b[0m in \u001b[0;36m<module>\u001b[0;34m\u001b[0m\n\u001b[1;32m     27\u001b[0m                 \u001b[0;36m128\u001b[0m\u001b[0;34m,\u001b[0m\u001b[0;36m256\u001b[0m\u001b[0;34m,\u001b[0m\u001b[0;34m\u001b[0m\u001b[0;34m\u001b[0m\u001b[0m\n\u001b[1;32m     28\u001b[0m             ]:\n\u001b[0;32m---> 29\u001b[0;31m                 \u001b[0mprint\u001b[0m\u001b[0;34m(\u001b[0m\u001b[0;34mf\".........K: {k}\"\u001b[0m\u001b[0;34m)\u001b[0m\u001b[0;34m\u001b[0m\u001b[0;34m\u001b[0m\u001b[0m\n\u001b[0m\u001b[1;32m     30\u001b[0m \u001b[0;31m#                 print(f\"params: {alg}, {eta}, {M}, {K}\")\u001b[0m\u001b[0;34m\u001b[0m\u001b[0;34m\u001b[0m\u001b[0;34m\u001b[0m\u001b[0m\n\u001b[1;32m     31\u001b[0m \u001b[0;31m#                 t0 = time.time()\u001b[0m\u001b[0;34m\u001b[0m\u001b[0;34m\u001b[0m\u001b[0;34m\u001b[0m\u001b[0m\n",
      "\u001b[0;31mNameError\u001b[0m: name 'k' is not defined"
     ]
    }
   ],
   "source": [
    "T = 4096\n",
    "local_batch = 1\n",
    "seed = 1\n",
    "record_intvl = 512\n",
    "\n",
    "for alg in [\n",
    "    5,0,1,2,\n",
    "]:\n",
    "    print(f\"alg: {alg}\")\n",
    "    for M in [\n",
    "        1,2,4,8,\n",
    "        16,32,64,128,\n",
    "        256,512,1024,\n",
    "        2048,4096,8192,\n",
    "    ]:\n",
    "        print(f\"...M: {M}\")\n",
    "        for eta in [\n",
    "            0.001,0.002,0.005,\n",
    "            0.01,0.02,0.05,\n",
    "            0.1,0.2,0.5,\n",
    "            1,2,5,10,\n",
    "        ]:\n",
    "            print(f\"......eta: {eta}\")\n",
    "            for K in [\n",
    "                1,2,4,\n",
    "                8,32,64,\n",
    "                128,256,\n",
    "            ]:\n",
    "                print(f\".........K: {k}\")\n",
    "#                 print(f\"params: {alg}, {eta}, {M}, {K}\")\n",
    "#                 t0 = time.time()\n",
    "                model.train(alg, eta, M, K, T, local_batch, seed, record_intvl)\n",
    "#                 t1 = time.time()\n",
    "#                 print(f\"Done in: {t1-t0}\")\n",
    "                \n",
    "print(\"Finished!\")"
   ]
  },
  {
   "cell_type": "code",
   "execution_count": null,
   "metadata": {},
   "outputs": [],
   "source": []
  }
 ],
 "metadata": {
  "kernelspec": {
   "display_name": "Python 3 (ipykernel)",
   "language": "python",
   "name": "python3"
  },
  "language_info": {
   "codemirror_mode": {
    "name": "ipython",
    "version": 3
   },
   "file_extension": ".py",
   "mimetype": "text/x-python",
   "name": "python",
   "nbconvert_exporter": "python",
   "pygments_lexer": "ipython3",
   "version": "3.7.7"
  }
 },
 "nbformat": 4,
 "nbformat_minor": 4
}
