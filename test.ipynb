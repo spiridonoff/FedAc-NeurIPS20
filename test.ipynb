{
 "cells": [
  {
   "cell_type": "code",
   "execution_count": null,
   "metadata": {},
   "outputs": [],
   "source": [
    "import logistic"
   ]
  },
  {
   "cell_type": "code",
   "execution_count": null,
   "metadata": {},
   "outputs": [],
   "source": [
    "lambd = 1.0 \n",
    "model = logistic.LogiBinaryLibSVM('a9a', lambd)"
   ]
  },
  {
   "cell_type": "code",
   "execution_count": null,
   "metadata": {},
   "outputs": [],
   "source": [
    "T = 4096\n",
    "local_batch = 1\n",
    "seed = 1\n",
    "record_intvl = 512\n",
    "\n",
    "for alg in [\n",
    "    5, # the new strategy with linearly growing intervals of local steps (communication intervals)\n",
    "    0, 1,\n",
    "    3, 4,\n",
    "]:\n",
    "    print(f\"alg: {alg}\")\n",
    "    for M in [\n",
    "        1, 8, 256, 2048,\n",
    "    ]:\n",
    "        print(f\"..M: {M}\")\n",
    "        for K in [\n",
    "            64, 128, 256,\n",
    "            512, 1024, 2048,\n",
    "        ]:\n",
    "            print(f\"....K: {K}\")\n",
    "            if alg == 5:\n",
    "                eta = 1\n",
    "                print(f\"......eta: {eta}\")\n",
    "                model.train(alg=alg, eta=eta, M=M, K=K, T=T, local_batch=local_batch, record_intvl=record_intvl, seed=seed)\n",
    "            else:\n",
    "                for eta in [\n",
    "                    0.001,0.003,\n",
    "                    0.01,0.03,\n",
    "                    0.1,0.3,\n",
    "                    1, 3,\n",
    "                ]:\n",
    "                    print(f\"......eta: {eta}\")\n",
    "                    model.train(alg=alg, eta=eta, M=M, K=K, T=T, local_batch=local_batch, record_intvl=record_intvl, seed=seed)\n",
    "                \n",
    "print(\"Finished!\")"
   ]
  },
  {
   "cell_type": "code",
   "execution_count": null,
   "metadata": {},
   "outputs": [],
   "source": []
  }
 ],
 "metadata": {
  "kernelspec": {
   "display_name": "Python 3 (ipykernel)",
   "language": "python",
   "name": "python3"
  },
  "language_info": {
   "codemirror_mode": {
    "name": "ipython",
    "version": 3
   },
   "file_extension": ".py",
   "mimetype": "text/x-python",
   "name": "python",
   "nbconvert_exporter": "python",
   "pygments_lexer": "ipython3",
   "version": "3.7.7"
  }
 },
 "nbformat": 4,
 "nbformat_minor": 4
}
